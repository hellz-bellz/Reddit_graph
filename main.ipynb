{
 "cells": [
  {
   "cell_type": "code",
   "execution_count": 2,
   "metadata": {
    "tags": []
   },
   "outputs": [],
   "source": [
    "import sys\n",
    "import os\n",
    "\n",
    "import pickle\n",
    "from pickle import Unpickler\n",
    "import pandas as pd\n",
    "from scipy.sparse import csr_matrix, csc_matrix, save_npz, load_npz, vstack\n",
    "import numpy as np\n",
    "# from numba import njit, jit\n",
    "import warnings\n",
    "warnings.filterwarnings('ignore')\n",
    "from collections import defaultdict\n",
    "from scipy.sparse import coo_matrix\n",
    "import matplotlib.pyplot as plt"
   ]
  },
  {
   "cell_type": "markdown",
   "metadata": {
    "pycharm": {
     "name": "#%% md\n"
    }
   },
   "source": [
    "## Часть 1.\n",
    "#### Собираем матрицу смежности.\n",
    "\n",
    "Для начала загрузим наш файл с аггрегированными данными постов."
   ]
  },
  {
   "cell_type": "code",
   "execution_count": 4,
   "metadata": {
    "pycharm": {
     "name": "#%%\n"
    }
   },
   "outputs": [
    {
     "name": "stdout",
     "output_type": "stream",
     "text": [
      "<class 'pandas.core.frame.DataFrame'>\n",
      "RangeIndex: 290691 entries, 0 to 290690\n",
      "Data columns (total 4 columns):\n",
      " #   Column       Non-Null Count   Dtype \n",
      "---  ------       --------------   ----- \n",
      " 0   subreddit    290691 non-null  object\n",
      " 1   author       290691 non-null  object\n",
      " 2   is_self      290691 non-null  bool  \n",
      " 3   created_utc  290691 non-null  int64 \n",
      "dtypes: bool(1), int64(1), object(2)\n",
      "memory usage: 6.9+ MB\n"
     ]
    }
   ],
   "source": [
    "with open(\"RS_2020-12.pickle\", \"rb\") as f:\n",
    "    pic = pickle.Unpickler(f).load()\n",
    "\n",
    "df = pd.DataFrame(pic, columns =['subreddit', 'author', \"is_self\", \"created_utc\"])\n",
    "df.info()"
   ]
  },
  {
   "cell_type": "code",
   "execution_count": 5,
   "metadata": {
    "collapsed": false,
    "jupyter": {
     "outputs_hidden": false
    },
    "pycharm": {
     "name": "#%%\n"
    }
   },
   "outputs": [
    {
     "data": {
      "text/plain": [
       "(290691, 4)"
      ]
     },
     "execution_count": 5,
     "metadata": {},
     "output_type": "execute_result"
    }
   ],
   "source": [
    "df.shape"
   ]
  },
  {
   "cell_type": "code",
   "execution_count": 6,
   "metadata": {
    "pycharm": {
     "name": "#%%\n"
    }
   },
   "outputs": [
    {
     "data": {
      "text/html": [
       "<div>\n",
       "<style scoped>\n",
       "    .dataframe tbody tr th:only-of-type {\n",
       "        vertical-align: middle;\n",
       "    }\n",
       "\n",
       "    .dataframe tbody tr th {\n",
       "        vertical-align: top;\n",
       "    }\n",
       "\n",
       "    .dataframe thead th {\n",
       "        text-align: right;\n",
       "    }\n",
       "</style>\n",
       "<table border=\"1\" class=\"dataframe\">\n",
       "  <thead>\n",
       "    <tr style=\"text-align: right;\">\n",
       "      <th></th>\n",
       "      <th>subreddit</th>\n",
       "      <th>author</th>\n",
       "      <th>is_self</th>\n",
       "      <th>created_utc</th>\n",
       "    </tr>\n",
       "  </thead>\n",
       "  <tbody>\n",
       "    <tr>\n",
       "      <th>0</th>\n",
       "      <td>Cookierun</td>\n",
       "      <td>ElectricalBlueberry</td>\n",
       "      <td>True</td>\n",
       "      <td>1606780808</td>\n",
       "    </tr>\n",
       "    <tr>\n",
       "      <th>1</th>\n",
       "      <td>disneyemojiblitz</td>\n",
       "      <td>elliewinks30</td>\n",
       "      <td>True</td>\n",
       "      <td>1606856407</td>\n",
       "    </tr>\n",
       "    <tr>\n",
       "      <th>2</th>\n",
       "      <td>whynottho</td>\n",
       "      <td>ElectroCatYT1273</td>\n",
       "      <td>True</td>\n",
       "      <td>1606798744</td>\n",
       "    </tr>\n",
       "    <tr>\n",
       "      <th>3</th>\n",
       "      <td>OverlookBayTradingRB</td>\n",
       "      <td>Gamereric21</td>\n",
       "      <td>True</td>\n",
       "      <td>1606859707</td>\n",
       "    </tr>\n",
       "    <tr>\n",
       "      <th>4</th>\n",
       "      <td>JLeague</td>\n",
       "      <td>DoaraChan</td>\n",
       "      <td>True</td>\n",
       "      <td>1606860007</td>\n",
       "    </tr>\n",
       "  </tbody>\n",
       "</table>\n",
       "</div>"
      ],
      "text/plain": [
       "              subreddit               author  is_self  created_utc\n",
       "0             Cookierun  ElectricalBlueberry     True   1606780808\n",
       "1      disneyemojiblitz         elliewinks30     True   1606856407\n",
       "2             whynottho     ElectroCatYT1273     True   1606798744\n",
       "3  OverlookBayTradingRB          Gamereric21     True   1606859707\n",
       "4               JLeague            DoaraChan     True   1606860007"
      ]
     },
     "execution_count": 6,
     "metadata": {},
     "output_type": "execute_result"
    }
   ],
   "source": [
    "df.head()"
   ]
  },
  {
   "cell_type": "markdown",
   "metadata": {
    "pycharm": {
     "name": "#%% md\n"
    }
   },
   "source": [
    "Создадим отдельные словари для пользователей и сабреддитов."
   ]
  },
  {
   "cell_type": "code",
   "execution_count": 3,
   "metadata": {
    "pycharm": {
     "name": "#%%\n"
    }
   },
   "outputs": [],
   "source": [
    "def make_dicts(df):\n",
    "    \"\"\"\n",
    "        Make users and subreddits dict. Also commit order of values in dicts in two files.\n",
    "        :param df: pd.Dataframe\n",
    "        :return: Map \"subreddit_name\" -> \"subreddit_idx\", \"user_name\" -> \"user_idx\".\n",
    "    \"\"\"\n",
    "    udf = df.groupby(\"author\")\n",
    "    sdf = df.groupby(\"subreddit\")\n",
    "    subreddits_dict = {}\n",
    "    users_dict = {}\n",
    "    with open(\"./subreddits.txt\", \"w\") as f:\n",
    "        for i, subreddit in enumerate(sdf):\n",
    "            subreddits_dict[subreddit[0]] = i\n",
    "            f.write(f\"{subreddit[0]}\\n\")\n",
    "    with open(\"./users.txt\", \"w\") as f:\n",
    "        for i, user in enumerate(udf):\n",
    "            users_dict[user[0]] = i\n",
    "            f.write(f\"{user[0]}\\n\")\n",
    "    return subreddits_dict, users_dict\n",
    "\n",
    "def read_dicts():\n",
    "    \"\"\"\n",
    "    Fill user dict and subreddit dict from files.\n",
    "    :return: Map \"subreddit_name\" -> \"subreddit_idx\", \"user_name\" -> \"user_idx\".\n",
    "    \"\"\"\n",
    "    user_dict = {}\n",
    "    subreddits_dict = {}\n",
    "    with open(\"./users.txt\", \"r\") as f:\n",
    "        i = 0\n",
    "        line = f.readline()\n",
    "        while line:\n",
    "            user_dict[line.strip()] = i\n",
    "            i += 1\n",
    "            line = f.readline()\n",
    "    with open(\"./subreddits.txt\", \"r\") as f:\n",
    "        i = 0\n",
    "        line = f.readline()\n",
    "        while line:\n",
    "            subreddits_dict[line.strip()] = i\n",
    "            i += 1\n",
    "            line = f.readline()\n",
    "    return subreddits_dict, user_dict\n",
    "\n",
    "def update_dicts(dicts, df):\n",
    "    \"\"\"\n",
    "    Update user and subreddit dicts, if df contains user or subreddit, that is absent in dict.\n",
    "    \"\"\"\n",
    "    subreddits_dict, users_dict = dicts\n",
    "    udf = df.groupby(\"author\")\n",
    "    sdf = df.groupby(\"subreddit\")\n",
    "    for subreddit in sdf:\n",
    "        if not subreddit[0] in subreddits_dict:\n",
    "            subreddits_dict[subreddit[0]] = len(subreddits_dict)\n",
    "    for user in udf:\n",
    "        if not user[0] in users_dict:\n",
    "            users_dict[user[0]] = len(users_dict)"
   ]
  },
  {
   "cell_type": "markdown",
   "metadata": {
    "pycharm": {
     "name": "#%% md\n"
    }
   },
   "source": [
    "А так же словарь, группирующий пользователей по сабреддитам."
   ]
  },
  {
   "cell_type": "code",
   "execution_count": 8,
   "metadata": {
    "pycharm": {
     "name": "#%%\n"
    }
   },
   "outputs": [],
   "source": [
    "def make_subreddit_user_dict(subreddits_dict, users_dict):\n",
    "    \"\"\"\n",
    "        Make aggregation of users in common subreddit\n",
    "        :param subreddits_dict: Map \"subreddit_name\" -> \"subreddit_idx\"\n",
    "        :param users_dict: Map \"user_name\" -> \"user_idx\"\n",
    "        :return: Map \"subreddit_idx\" -> {user_idx | user_name in subreddit_name}\n",
    "    \"\"\"\n",
    "    subreddit_user_dict = defaultdict(list)\n",
    "    sdf = df.groupby(\"subreddit\")\n",
    "    for subreddit, data in sdf:\n",
    "        users = data[\"author\"].values\n",
    "        users = np.unique(users)\n",
    "        subreddit_user_dict[subreddits_dict[subreddit]] += [users_dict[user] for user in users]\n",
    "    return subreddit_user_dict\n",
    "\n",
    "def make_sparse_dict(subreddit_user_dict):\n",
    "    rows = []\n",
    "    cols = []\n",
    "    for i, subreddit in enumerate(subreddit_user_dict):\n",
    "        subreddit_users = subreddit_user_dict[subreddit]\n",
    "        rows.extend([subreddit] * len(subreddit_users))\n",
    "        cols.extend(subreddit_users)\n",
    "    data = np.ones(len(rows), dtype=np.float32)\n",
    "    rows = np.array(rows, dtype=np.int32)\n",
    "    cols = np.array(cols, dtype=np.int32)\n",
    "    return coo_matrix((data, (rows, cols)))"
   ]
  },
  {
   "cell_type": "markdown",
   "metadata": {
    "pycharm": {
     "name": "#%% md\n"
    }
   },
   "source": [
    "Последняя функция создаёт разреженную матрицу размера $|Subreddits| \\times |Users|$.\n",
    "Действительно, довольно очевидно, что при таком большом числе пользователей, посты в некотором сабреддите\n",
    "написала лишь небольшая их часть, а потому хранить их в виде разреженной матрицы довольно выгодно по памяти."
   ]
  },
  {
   "cell_type": "code",
   "execution_count": 9,
   "metadata": {
    "pycharm": {
     "name": "#%%\n"
    }
   },
   "outputs": [],
   "source": [
    "subreddits_dict, users_dict = make_dicts(df)\n",
    "subreddit_user_dict = make_subreddit_user_dict(subreddits_dict, users_dict)\n",
    "subreddit_user_dict_coo = make_sparse_dict(subreddit_user_dict)"
   ]
  },
  {
   "cell_type": "code",
   "execution_count": 11,
   "metadata": {
    "collapsed": false,
    "jupyter": {
     "outputs_hidden": false
    },
    "pycharm": {
     "name": "#%%\n"
    }
   },
   "outputs": [
    {
     "name": "stdout",
     "output_type": "stream",
     "text": [
      "Число уникальных сабреддитов: 40412\n",
      "Число уникальных пользователей: 110297\n"
     ]
    }
   ],
   "source": [
    "print(\"Число уникальных сабреддитов:\", subreddit_user_dict_coo.shape[0])\n",
    "print(\"Число уникальных пользователей:\", subreddit_user_dict_coo.shape[1])"
   ]
  },
  {
   "cell_type": "markdown",
   "metadata": {
    "pycharm": {
     "name": "#%% md\n"
    }
   },
   "source": [
    "Напишем функцию для подсчёта меры Жаккара для определения близости сабреддитов.\n",
    "Заметим, что в нашей матрице размера $|Subreddits| \\times |Users|$ по строкам стоят векторы с 0 и 1, причём\n",
    "единицы стоят в позиции тех пользователей, которые писали пост в данном сабреддите. Пусть $S_i$ и $S_j$ ---\n",
    "сабреддиты. Тогда мера Жаккара для них определяется следующим образом:\n",
    "\n",
    "$\n",
    "Jakkard(S_i, S_j) = \\frac{|S_i \\cup S_j|}{|S_i \\cap S_j|},\n",
    "$\n",
    "\n",
    "где пересечением сабреддитов мы считаем множество общих авторов, а объединением --- соответственно,\n",
    "объединения множеств авторов. Для эффективной реализации функции остаётся заметить,\n",
    "что если S_i и S_j представляются как векторы размера $|Users|$ с ноликами и единичками, то\n",
    "$S_i^TS_j = |S_i \\cup S_j|$, а $|S_i \\cap S_j| = sum(S_i) + sum(S_j) - S_i^TS_j$ по формуле\n",
    "включений и исключений."
   ]
  },
  {
   "cell_type": "code",
   "execution_count": 11,
   "metadata": {
    "pycharm": {
     "name": "#%%\n"
    }
   },
   "outputs": [],
   "source": [
    "def adjacency_jakkard(sparse_mapping):\n",
    "    sizes = sparse_mapping.sum(axis=1, dtype=np.float32)\n",
    "    intersection = (sparse_mapping @ sparse_mapping.T).tocoo(copy=False)\n",
    "    sizes_rows = coo_matrix((np.squeeze(np.asarray(sizes[intersection.row])),\n",
    "                         (intersection.row, intersection.col)), dtype=np.float32)\n",
    "    sizes_cols = coo_matrix((np.squeeze(np.asarray(sizes[intersection.col])),\n",
    "                             (intersection.row, intersection.col)), dtype=np.float32)\n",
    "    adj = coo_matrix((intersection.data / union.data, (intersection.row, intersection.col)))\n",
    "    return adj\n"
   ]
  },
  {
   "cell_type": "code",
   "execution_count": null,
   "metadata": {
    "pycharm": {
     "is_executing": true,
     "name": "#%%\n"
    }
   },
   "outputs": [],
   "source": [
    "# DONT RUN IT AGAIN\n",
    "from scipy.sparse import save_npz\n",
    "\n",
    "adj = adjacency_jakkard(subreddit_user_dict_coo)\n",
    "save_npz(\"adjacency_jakkard\", adj)"
   ]
  },
  {
   "cell_type": "markdown",
   "metadata": {
    "pycharm": {
     "name": "#%% md\n"
    }
   },
   "source": [
    "## Часть вторая\n",
    "#### Рисуем графы"
   ]
  },
  {
   "cell_type": "code",
   "execution_count": 4,
   "metadata": {
    "pycharm": {
     "name": "#%%\n"
    }
   },
   "outputs": [],
   "source": [
    "from scipy.sparse import load_npz\n",
    "import networkx as nx\n",
    "\n",
    "adj = load_npz(\"adjacency_jakkard.npz\")"
   ]
  },
  {
   "cell_type": "markdown",
   "metadata": {},
   "source": [
    "Так как граф огромный, и содержит порядка 40'000 сабреддитов и порядка 120'000 вершин,\n",
    "нарисовать его целиком невозможно, а если и возможно, это будет нерепрезентативно.\n",
    "\n",
    "Вместо этого выберем случайные 10 сабреддитов и нарисуем подграф на этих сабреддитах."
   ]
  },
  {
   "cell_type": "code",
   "execution_count": 86,
   "metadata": {
    "collapsed": false,
    "jupyter": {
     "outputs_hidden": false
    },
    "pycharm": {
     "name": "#%%\n"
    }
   },
   "outputs": [
    {
     "data": {
      "text/html": [
       "<div>\n",
       "<style scoped>\n",
       "    .dataframe tbody tr th:only-of-type {\n",
       "        vertical-align: middle;\n",
       "    }\n",
       "\n",
       "    .dataframe tbody tr th {\n",
       "        vertical-align: top;\n",
       "    }\n",
       "\n",
       "    .dataframe thead th {\n",
       "        text-align: right;\n",
       "    }\n",
       "</style>\n",
       "<table border=\"1\" class=\"dataframe\">\n",
       "  <thead>\n",
       "    <tr style=\"text-align: right;\">\n",
       "      <th></th>\n",
       "      <th>subreddit_name</th>\n",
       "    </tr>\n",
       "  </thead>\n",
       "  <tbody>\n",
       "    <tr>\n",
       "      <th>0</th>\n",
       "      <td>SukihanaGoat</td>\n",
       "    </tr>\n",
       "    <tr>\n",
       "      <th>1</th>\n",
       "      <td>u_missnemuro</td>\n",
       "    </tr>\n",
       "    <tr>\n",
       "      <th>2</th>\n",
       "      <td>u_ThemeParkVets</td>\n",
       "    </tr>\n",
       "    <tr>\n",
       "      <th>3</th>\n",
       "      <td>freelanceWriters</td>\n",
       "    </tr>\n",
       "    <tr>\n",
       "      <th>4</th>\n",
       "      <td>u_AdamTyson</td>\n",
       "    </tr>\n",
       "    <tr>\n",
       "      <th>5</th>\n",
       "      <td>SonyXperia</td>\n",
       "    </tr>\n",
       "    <tr>\n",
       "      <th>6</th>\n",
       "      <td>HOSPITAL</td>\n",
       "    </tr>\n",
       "    <tr>\n",
       "      <th>7</th>\n",
       "      <td>u_kallen815</td>\n",
       "    </tr>\n",
       "    <tr>\n",
       "      <th>8</th>\n",
       "      <td>Tools</td>\n",
       "    </tr>\n",
       "    <tr>\n",
       "      <th>9</th>\n",
       "      <td>OHGuns</td>\n",
       "    </tr>\n",
       "  </tbody>\n",
       "</table>\n",
       "</div>"
      ],
      "text/plain": [
       "     subreddit_name\n",
       "0      SukihanaGoat\n",
       "1      u_missnemuro\n",
       "2   u_ThemeParkVets\n",
       "3  freelanceWriters\n",
       "4       u_AdamTyson\n",
       "5        SonyXperia\n",
       "6          HOSPITAL\n",
       "7       u_kallen815\n",
       "8             Tools\n",
       "9            OHGuns"
      ]
     },
     "execution_count": 86,
     "metadata": {},
     "output_type": "execute_result"
    }
   ],
   "source": [
    "subreddits_dict, _ = read_dicts()\n",
    "subgraph_vertex_cnt = 10\n",
    "random_ids = np.random.randint(0, len(subreddits_dict), subgraph_vertex_cnt)\n",
    "random_submatrix = np.zeros((subgraph_vertex_cnt, subgraph_vertex_cnt))\n",
    "subreddits_dict_keys = list(subreddits_dict.keys())\n",
    "subreddits_names = []\n",
    "for i, idx in enumerate(random_ids):\n",
    "    subreddits_names.append(subreddits_dict_keys[idx])\n",
    "    column_ids = adj.col[adj.row == idx]\n",
    "    for j, jdx in enumerate(random_ids):\n",
    "        if jdx in column_ids:\n",
    "            random_submatrix[i, j] = adj.data[(adj.row == idx) & (adj.col == jdx)]\n",
    "\n",
    "subgraph_pd = pd.DataFrame({\"subreddit_name\": subreddits_names})\n",
    "subgraph_pd\n"
   ]
  },
  {
   "cell_type": "code",
   "execution_count": 96,
   "metadata": {
    "collapsed": false,
    "jupyter": {
     "outputs_hidden": false
    },
    "pycharm": {
     "name": "#%%\n"
    }
   },
   "outputs": [
    {
     "data": {
      "image/png": "[encoded data removed]",
      "text/plain": [
       "<Figure size 432x288 with 1 Axes>"
      ]
     },
     "metadata": {},
     "output_type": "display_data"
    }
   ],
   "source": [
    "G = nx.from_numpy_matrix(random_submatrix)\n",
    "plt.figure()\n",
    "pos = nx.spring_layout(G, iterations=3)\n",
    "nx.draw(G, pos, node_size=0, edge_color=\"r\", font_size=12,\n",
    "        linewidths=1,\n",
    "        labels={k : v for k, v in enumerate(subreddits_names)},\n",
    "        with_labels=True)\n",
    "ax = plt.gca()\n",
    "ax.margins(0.08)\n",
    "plt.axis('off')\n",
    "plt.show()"
   ]
  },
  {
   "cell_type": "markdown",
   "metadata": {
    "pycharm": {
     "name": "#%% md\n"
    }
   },
   "source": [
    "Можно заметить, что так как матрица смежности полного графа у нас довольно разреженная,\n",
    "то выбирая сабреддиты случайным образом мы редко увидим картину, когда все сабреддиты соединены со всеми.\n",
    "Чтобы увидеть больше связности, выберем руками сабреддиты с наиболее интересными (и приличными названиями)."
   ]
  },
  {
   "cell_type": "code",
   "execution_count": 139,
   "metadata": {
    "collapsed": false,
    "jupyter": {
     "outputs_hidden": false
    },
    "pycharm": {
     "name": "#%%\n"
    }
   },
   "outputs": [],
   "source": [
    "chosen_subreddits = [\n",
    "    \"Crypto_Currency_News\",\n",
    "    \"MedievalCats\",\n",
    "    \"MandelaEffect\",\n",
    "    \"CarHacking\",\n",
    "    \"AnimeSketch\",\n",
    "    \"JapaneseFood\",\n",
    "    \"CasualPokemonTrades\",\n",
    "    \"GameOfThronesMemes\",\n",
    "    \"learnmachinelearning\"\n",
    "]\n",
    "\n",
    "subreddits_ids = [subreddits_dict[subreddit] for subreddit in chosen_subreddits]\n",
    "chosen_submatrix = np.zeros((len(subreddits_ids), len(subreddits_ids)))\n",
    "for i, idx in enumerate(subreddits_ids):\n",
    "    column_ids = adj.col[adj.row == idx]\n",
    "    for j, jdx in enumerate(subreddits_ids):\n",
    "        if jdx in column_ids:\n",
    "            chosen_submatrix[i, j] = adj.data[(adj.row == idx) & (adj.col == jdx)]"
   ]
  },
  {
   "cell_type": "code",
   "execution_count": 140,
   "metadata": {
    "collapsed": false,
    "jupyter": {
     "outputs_hidden": false
    },
    "pycharm": {
     "name": "#%%\n"
    }
   },
   "outputs": [
    {
     "data": {
      "image/png": "[encoded data removed]",
      "text/plain": [
       "<Figure size 432x288 with 1 Axes>"
      ]
     },
     "metadata": {},
     "output_type": "display_data"
    }
   ],
   "source": [
    "G = nx.from_numpy_matrix(chosen_submatrix)\n",
    "plt.figure()\n",
    "pos = nx.circular_layout(G)\n",
    "nx.draw(G, pos, node_size=0, edge_color=\"r\", font_size=10,\n",
    "        linewidths=1,\n",
    "        labels={k : v for k, v in enumerate(chosen_subreddits)},\n",
    "        with_labels=True)\n",
    "ax = plt.gca()\n",
    "ax.margins(0.1)\n",
    "plt.axis('off')\n",
    "plt.show()"
   ]
  },
  {
   "cell_type": "markdown",
   "metadata": {
    "pycharm": {
     "name": "#%% md\n"
    }
   },
   "source": [
    "## Часть 3.\n",
    "#### Записываем файлики."
   ]
  },
  {
   "cell_type": "code",
   "execution_count": 11,
   "metadata": {
    "collapsed": false,
    "jupyter": {
     "outputs_hidden": false
    },
    "pycharm": {
     "name": "#%%\n"
    }
   },
   "outputs": [
    {
     "name": "stdout",
     "output_type": "stream",
     "text": [
      "<class 'pandas.core.frame.DataFrame'>\n",
      "RangeIndex: 243685198 entries, 0 to 243685197\n",
      "Data columns (total 3 columns):\n",
      " #   Column              Dtype  \n",
      "---  ------              -----  \n",
      " 0   subreddit_idx_1     int32  \n",
      " 1   subreddit_idx_2     int32  \n",
      " 2   jakkard_similarity  float32\n",
      "dtypes: float32(1), int32(2)\n",
      "memory usage: 2.7 GB\n"
     ]
    }
   ],
   "source": [
    "# EXTREMLY LARGE FILE\n",
    "edges_file = pd.DataFrame({\"subreddit_idx_1\": adj.row,\n",
    "                           \"subreddit_idx_2\": adj.col,\n",
    "                           \"jakkard_similarity\": adj.data})\n",
    "edges_file.info()\n",
    "# edges_file.to_csv(\"reddit_edges_file.csv\", index=False)"
   ]
  },
  {
   "cell_type": "code",
   "execution_count": 10,
   "metadata": {
    "collapsed": false,
    "jupyter": {
     "outputs_hidden": false
    },
    "pycharm": {
     "is_executing": true,
     "name": "#%%\n"
    }
   },
   "outputs": [
    {
     "name": "stdout",
     "output_type": "stream",
     "text": [
      "<class 'pandas.core.frame.DataFrame'>\n",
      "RangeIndex: 40412 entries, 0 to 40411\n",
      "Data columns (total 2 columns):\n",
      " #   Column          Non-Null Count  Dtype \n",
      "---  ------          --------------  ----- \n",
      " 0   subreddit_name  40412 non-null  object\n",
      " 1   id              40412 non-null  int64 \n",
      "dtypes: int64(1), object(1)\n",
      "memory usage: 631.6+ KB\n"
     ]
    }
   ],
   "source": [
    "vertex_file = pd.DataFrame({\"subreddit_name\": subreddits_dict.keys(), \"id\": np.arange(len(subreddits_dict))})\n",
    "vertex_file.info()\n",
    "vertex_file.to_csv(\"reddit_vertex_file.csv\", index=False)"
   ]
  },
  {
   "cell_type": "code",
   "execution_count": 5,
   "metadata": {
    "collapsed": false,
    "jupyter": {
     "outputs_hidden": false
    },
    "pycharm": {
     "name": "#%%\n"
    }
   },
   "outputs": [],
   "source": [
    "subreddits_dict, _ = read_dicts()"
   ]
  },
  {
   "cell_type": "code",
   "execution_count": null,
   "metadata": {},
   "outputs": [],
   "source": []
  }
 ],
 "metadata": {
  "kernelspec": {
   "display_name": "Google Colab GPU Python 3.7 [python-colab_gpu_py37]",
   "language": "python",
   "name": "conda-env-python-colab_gpu_py37-py"
  },
  "language_info": {
   "codemirror_mode": {
    "name": "ipython",
    "version": 3
   },
   "file_extension": ".py",
   "mimetype": "text/x-python",
   "name": "python",
   "nbconvert_exporter": "python",
   "pygments_lexer": "ipython3",
   "version": "3.7.12"
  },
  "widgets": {
   "application/vnd.jupyter.widget-state+json": {
    "state": {},
    "version_major": 2,
    "version_minor": 0
   }
  }
 },
 "nbformat": 4,
 "nbformat_minor": 4
}
